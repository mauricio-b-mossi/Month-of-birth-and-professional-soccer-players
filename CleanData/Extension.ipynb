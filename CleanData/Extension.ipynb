{
 "cells": [
  {
   "cell_type": "code",
   "execution_count": 1,
   "id": "d5ca52b7",
   "metadata": {},
   "outputs": [],
   "source": [
    "import pandas as pd\n",
    "import matplotlib.pyplot as plt\n",
    "import numpy as np\n",
    "from sklearn.metrics import r2_score\n",
    "from pingouin import corr\n",
    "import dataframe_image as dfi\n",
    "import seaborn as sns"
   ]
  },
  {
   "cell_type": "markdown",
   "id": "fcd88b02",
   "metadata": {},
   "source": [
    "### Bayern"
   ]
  },
  {
   "cell_type": "code",
   "execution_count": 2,
   "id": "d1cbee0e",
   "metadata": {},
   "outputs": [],
   "source": [
    "bm_df = pd.read_csv('bayernData.csv')"
   ]
  },
  {
   "cell_type": "code",
   "execution_count": 4,
   "id": "e8fc4cda",
   "metadata": {},
   "outputs": [],
   "source": [
    "bm_df.drop(columns=['Unnamed: 0'], inplace=True)"
   ]
  },
  {
   "cell_type": "code",
   "execution_count": 5,
   "id": "6674a944",
   "metadata": {},
   "outputs": [
    {
     "data": {
      "text/html": [
       "<div>\n",
       "<style scoped>\n",
       "    .dataframe tbody tr th:only-of-type {\n",
       "        vertical-align: middle;\n",
       "    }\n",
       "\n",
       "    .dataframe tbody tr th {\n",
       "        vertical-align: top;\n",
       "    }\n",
       "\n",
       "    .dataframe thead th {\n",
       "        text-align: right;\n",
       "    }\n",
       "</style>\n",
       "<table border=\"1\" class=\"dataframe\">\n",
       "  <thead>\n",
       "    <tr style=\"text-align: right;\">\n",
       "      <th></th>\n",
       "      <th>short_name</th>\n",
       "      <th>age</th>\n",
       "      <th>dob</th>\n",
       "      <th>club_name</th>\n",
       "      <th>overall</th>\n",
       "      <th>MonthName</th>\n",
       "      <th>MonthNumber</th>\n",
       "      <th>DayOfYear</th>\n",
       "    </tr>\n",
       "  </thead>\n",
       "  <tbody>\n",
       "    <tr>\n",
       "      <th>0</th>\n",
       "      <td>R. Lewandowski</td>\n",
       "      <td>31</td>\n",
       "      <td>1988-08-21</td>\n",
       "      <td>FC Bayern München</td>\n",
       "      <td>91</td>\n",
       "      <td>August</td>\n",
       "      <td>8</td>\n",
       "      <td>234</td>\n",
       "    </tr>\n",
       "    <tr>\n",
       "      <th>1</th>\n",
       "      <td>M. Neuer</td>\n",
       "      <td>34</td>\n",
       "      <td>1986-03-27</td>\n",
       "      <td>FC Bayern München</td>\n",
       "      <td>89</td>\n",
       "      <td>March</td>\n",
       "      <td>3</td>\n",
       "      <td>86</td>\n",
       "    </tr>\n",
       "    <tr>\n",
       "      <th>2</th>\n",
       "      <td>J. Kimmich</td>\n",
       "      <td>25</td>\n",
       "      <td>1995-02-08</td>\n",
       "      <td>FC Bayern München</td>\n",
       "      <td>88</td>\n",
       "      <td>February</td>\n",
       "      <td>2</td>\n",
       "      <td>39</td>\n",
       "    </tr>\n",
       "    <tr>\n",
       "      <th>3</th>\n",
       "      <td>T. Müller</td>\n",
       "      <td>30</td>\n",
       "      <td>1989-09-13</td>\n",
       "      <td>FC Bayern München</td>\n",
       "      <td>86</td>\n",
       "      <td>September</td>\n",
       "      <td>9</td>\n",
       "      <td>256</td>\n",
       "    </tr>\n",
       "    <tr>\n",
       "      <th>4</th>\n",
       "      <td>L. Sané</td>\n",
       "      <td>24</td>\n",
       "      <td>1996-01-11</td>\n",
       "      <td>FC Bayern München</td>\n",
       "      <td>85</td>\n",
       "      <td>January</td>\n",
       "      <td>1</td>\n",
       "      <td>11</td>\n",
       "    </tr>\n",
       "  </tbody>\n",
       "</table>\n",
       "</div>"
      ],
      "text/plain": [
       "       short_name  age         dob          club_name  overall  MonthName  \\\n",
       "0  R. Lewandowski   31  1988-08-21  FC Bayern München       91     August   \n",
       "1        M. Neuer   34  1986-03-27  FC Bayern München       89      March   \n",
       "2      J. Kimmich   25  1995-02-08  FC Bayern München       88   February   \n",
       "3       T. Müller   30  1989-09-13  FC Bayern München       86  September   \n",
       "4         L. Sané   24  1996-01-11  FC Bayern München       85    January   \n",
       "\n",
       "   MonthNumber  DayOfYear  \n",
       "0            8        234  \n",
       "1            3         86  \n",
       "2            2         39  \n",
       "3            9        256  \n",
       "4            1         11  "
      ]
     },
     "execution_count": 5,
     "metadata": {},
     "output_type": "execute_result"
    }
   ],
   "source": [
    "bm_df.head()"
   ]
  },
  {
   "cell_type": "code",
   "execution_count": 20,
   "id": "e722fdba",
   "metadata": {
    "scrolled": true
   },
   "outputs": [
    {
     "name": "stderr",
     "output_type": "stream",
     "text": [
      "C:\\Users\\mauri\\anaconda3\\lib\\site-packages\\seaborn\\_decorators.py:36: FutureWarning: Pass the following variable as a keyword arg: x. From version 0.12, the only valid positional argument will be `data`, and passing other arguments without an explicit keyword will result in an error or misinterpretation.\n",
      "  warnings.warn(\n"
     ]
    },
    {
     "data": {
      "text/plain": [
       "Text(0.5, 0, 'Numerical value of Month')"
      ]
     },
     "execution_count": 20,
     "metadata": {},
     "output_type": "execute_result"
    },
    {
     "data": {
      "image/png": "[encoded data removed]",
      "text/plain": [
       "<Figure size 432x288 with 1 Axes>"
      ]
     },
     "metadata": {
      "needs_background": "light"
     },
     "output_type": "display_data"
    }
   ],
   "source": [
    "sns.countplot(bm_df['MonthNumber'])\n",
    "plt.title('FC Bayern München Players Distribution')\n",
    "plt.ylabel('Number of players born in the Month')\n",
    "plt.xlabel('Numerical value of Month')"
   ]
  },
  {
   "cell_type": "code",
   "execution_count": 27,
   "id": "6ba9c883",
   "metadata": {},
   "outputs": [
    {
     "data": {
      "text/html": [
       "<div>\n",
       "<style scoped>\n",
       "    .dataframe tbody tr th:only-of-type {\n",
       "        vertical-align: middle;\n",
       "    }\n",
       "\n",
       "    .dataframe tbody tr th {\n",
       "        vertical-align: top;\n",
       "    }\n",
       "\n",
       "    .dataframe thead th {\n",
       "        text-align: right;\n",
       "    }\n",
       "</style>\n",
       "<table border=\"1\" class=\"dataframe\">\n",
       "  <thead>\n",
       "    <tr style=\"text-align: right;\">\n",
       "      <th></th>\n",
       "      <th>Month</th>\n",
       "      <th>Total Players</th>\n",
       "    </tr>\n",
       "  </thead>\n",
       "  <tbody>\n",
       "    <tr>\n",
       "      <th>0</th>\n",
       "      <td>1</td>\n",
       "      <td>1</td>\n",
       "    </tr>\n",
       "    <tr>\n",
       "      <th>1</th>\n",
       "      <td>2</td>\n",
       "      <td>3</td>\n",
       "    </tr>\n",
       "    <tr>\n",
       "      <th>2</th>\n",
       "      <td>3</td>\n",
       "      <td>3</td>\n",
       "    </tr>\n",
       "    <tr>\n",
       "      <th>3</th>\n",
       "      <td>5</td>\n",
       "      <td>1</td>\n",
       "    </tr>\n",
       "    <tr>\n",
       "      <th>4</th>\n",
       "      <td>6</td>\n",
       "      <td>3</td>\n",
       "    </tr>\n",
       "    <tr>\n",
       "      <th>5</th>\n",
       "      <td>7</td>\n",
       "      <td>1</td>\n",
       "    </tr>\n",
       "    <tr>\n",
       "      <th>6</th>\n",
       "      <td>8</td>\n",
       "      <td>4</td>\n",
       "    </tr>\n",
       "    <tr>\n",
       "      <th>7</th>\n",
       "      <td>9</td>\n",
       "      <td>5</td>\n",
       "    </tr>\n",
       "    <tr>\n",
       "      <th>8</th>\n",
       "      <td>11</td>\n",
       "      <td>1</td>\n",
       "    </tr>\n",
       "  </tbody>\n",
       "</table>\n",
       "</div>"
      ],
      "text/plain": [
       "   Month  Total Players\n",
       "0      1              1\n",
       "1      2              3\n",
       "2      3              3\n",
       "3      5              1\n",
       "4      6              3\n",
       "5      7              1\n",
       "6      8              4\n",
       "7      9              5\n",
       "8     11              1"
      ]
     },
     "execution_count": 27,
     "metadata": {},
     "output_type": "execute_result"
    }
   ],
   "source": [
    "bayernMonthNumber = bm_df.groupby('MonthNumber')['MonthNumber'].count()\n",
    "bayernMonthdf = pd.DataFrame([[i, bayernMonthNumber[i]] for i in bayernMonthNumber.index])\n",
    "bayernMonthdf.rename(columns={0:'Month', 1: 'Total Players'}, inplace=True)\n",
    "bayernMonthdf"
   ]
  },
  {
   "cell_type": "code",
   "execution_count": 25,
   "id": "2a708f49",
   "metadata": {},
   "outputs": [],
   "source": [
    "X = bayernMonthdf['Month']\n",
    "Y = bayernMonthdf['Total Players']"
   ]
  },
  {
   "cell_type": "code",
   "execution_count": 26,
   "id": "917b93a3",
   "metadata": {},
   "outputs": [
    {
     "data": {
      "text/plain": [
       "Text(1.05, 0.95, '$y=0.077\\\\;x+2.000$\\n$R^2 = 0.029$')"
      ]
     },
     "execution_count": 26,
     "metadata": {},
     "output_type": "execute_result"
    },
    {
     "data": {
      "image/png": "[encoded data removed]",
      "text/plain": [
       "<Figure size 432x288 with 1 Axes>"
      ]
     },
     "metadata": {
      "needs_background": "light"
     },
     "output_type": "display_data"
    }
   ],
   "source": [
    "plt.title('FC Bayern München Players')\n",
    "plt.ylabel('Total Players')\n",
    "plt.xlabel('Months')\n",
    "plt.plot(X,Y,\"b.\", ms=10, mec=\"k\")\n",
    "z = np.polyfit(X, Y, 1)\n",
    "y_hat = np.poly1d(z)(X)\n",
    "\n",
    "plt.plot(X, y_hat, \"r--\", lw=1)\n",
    "text = f\"$y={z[0]:0.3f}\\;x{z[1]:+0.3f}$\\n$R^2 = {r2_score(Y,y_hat):0.3f}$\"\n",
    "plt.gca().text(1.05, 0.95, text,transform=plt.gca().transAxes,\n",
    "     fontsize=14, verticalalignment='top')"
   ]
  },
  {
   "cell_type": "code",
   "execution_count": 34,
   "id": "b7bb4f4b",
   "metadata": {},
   "outputs": [],
   "source": [
    "dfi.export(bayernMonthdf[['Month', 'Total Players']].corr(), 'bayerncorr.png')"
   ]
  },
  {
   "cell_type": "markdown",
   "id": "7e94484a",
   "metadata": {},
   "source": [
    "### Liverpool"
   ]
  },
  {
   "cell_type": "code",
   "execution_count": 11,
   "id": "844f3307",
   "metadata": {},
   "outputs": [],
   "source": [
    "lp_df = pd.read_csv('liverpoolData.csv')"
   ]
  },
  {
   "cell_type": "code",
   "execution_count": 14,
   "id": "1c7c9f60",
   "metadata": {},
   "outputs": [],
   "source": [
    "lp_df.drop(columns=['Unnamed: 0'], inplace=True)"
   ]
  },
  {
   "cell_type": "code",
   "execution_count": 15,
   "id": "4f3173c7",
   "metadata": {},
   "outputs": [
    {
     "data": {
      "text/html": [
       "<div>\n",
       "<style scoped>\n",
       "    .dataframe tbody tr th:only-of-type {\n",
       "        vertical-align: middle;\n",
       "    }\n",
       "\n",
       "    .dataframe tbody tr th {\n",
       "        vertical-align: top;\n",
       "    }\n",
       "\n",
       "    .dataframe thead th {\n",
       "        text-align: right;\n",
       "    }\n",
       "</style>\n",
       "<table border=\"1\" class=\"dataframe\">\n",
       "  <thead>\n",
       "    <tr style=\"text-align: right;\">\n",
       "      <th></th>\n",
       "      <th>short_name</th>\n",
       "      <th>age</th>\n",
       "      <th>dob</th>\n",
       "      <th>club_name</th>\n",
       "      <th>overall</th>\n",
       "      <th>MonthName</th>\n",
       "      <th>MonthNumber</th>\n",
       "      <th>DayOfYear</th>\n",
       "    </tr>\n",
       "  </thead>\n",
       "  <tbody>\n",
       "    <tr>\n",
       "      <th>0</th>\n",
       "      <td>V. van Dijk</td>\n",
       "      <td>28</td>\n",
       "      <td>1991-07-08</td>\n",
       "      <td>Liverpool</td>\n",
       "      <td>90</td>\n",
       "      <td>July</td>\n",
       "      <td>7</td>\n",
       "      <td>189</td>\n",
       "    </tr>\n",
       "    <tr>\n",
       "      <th>1</th>\n",
       "      <td>Alisson</td>\n",
       "      <td>27</td>\n",
       "      <td>1992-10-02</td>\n",
       "      <td>Liverpool</td>\n",
       "      <td>90</td>\n",
       "      <td>October</td>\n",
       "      <td>10</td>\n",
       "      <td>276</td>\n",
       "    </tr>\n",
       "    <tr>\n",
       "      <th>2</th>\n",
       "      <td>S. Mané</td>\n",
       "      <td>28</td>\n",
       "      <td>1992-04-10</td>\n",
       "      <td>Liverpool</td>\n",
       "      <td>90</td>\n",
       "      <td>April</td>\n",
       "      <td>4</td>\n",
       "      <td>101</td>\n",
       "    </tr>\n",
       "    <tr>\n",
       "      <th>3</th>\n",
       "      <td>M. Salah</td>\n",
       "      <td>28</td>\n",
       "      <td>1992-06-15</td>\n",
       "      <td>Liverpool</td>\n",
       "      <td>90</td>\n",
       "      <td>June</td>\n",
       "      <td>6</td>\n",
       "      <td>167</td>\n",
       "    </tr>\n",
       "    <tr>\n",
       "      <th>4</th>\n",
       "      <td>T. Alexander-Arnold</td>\n",
       "      <td>21</td>\n",
       "      <td>1998-10-07</td>\n",
       "      <td>Liverpool</td>\n",
       "      <td>87</td>\n",
       "      <td>October</td>\n",
       "      <td>10</td>\n",
       "      <td>280</td>\n",
       "    </tr>\n",
       "  </tbody>\n",
       "</table>\n",
       "</div>"
      ],
      "text/plain": [
       "            short_name  age         dob  club_name  overall MonthName  \\\n",
       "0          V. van Dijk   28  1991-07-08  Liverpool       90      July   \n",
       "1              Alisson   27  1992-10-02  Liverpool       90   October   \n",
       "2              S. Mané   28  1992-04-10  Liverpool       90     April   \n",
       "3             M. Salah   28  1992-06-15  Liverpool       90      June   \n",
       "4  T. Alexander-Arnold   21  1998-10-07  Liverpool       87   October   \n",
       "\n",
       "   MonthNumber  DayOfYear  \n",
       "0            7        189  \n",
       "1           10        276  \n",
       "2            4        101  \n",
       "3            6        167  \n",
       "4           10        280  "
      ]
     },
     "execution_count": 15,
     "metadata": {},
     "output_type": "execute_result"
    }
   ],
   "source": [
    "lp_df.head()"
   ]
  },
  {
   "cell_type": "code",
   "execution_count": 19,
   "id": "a2ee81a4",
   "metadata": {},
   "outputs": [
    {
     "name": "stderr",
     "output_type": "stream",
     "text": [
      "C:\\Users\\mauri\\anaconda3\\lib\\site-packages\\seaborn\\_decorators.py:36: FutureWarning: Pass the following variable as a keyword arg: x. From version 0.12, the only valid positional argument will be `data`, and passing other arguments without an explicit keyword will result in an error or misinterpretation.\n",
      "  warnings.warn(\n"
     ]
    },
    {
     "data": {
      "text/plain": [
       "Text(0.5, 0, 'Numerical value of Month')"
      ]
     },
     "execution_count": 19,
     "metadata": {},
     "output_type": "execute_result"
    },
    {
     "data": {
      "image/png": "[encoded data removed]",
      "text/plain": [
       "<Figure size 432x288 with 1 Axes>"
      ]
     },
     "metadata": {
      "needs_background": "light"
     },
     "output_type": "display_data"
    }
   ],
   "source": [
    "sns.countplot(lp_df['MonthNumber'])\n",
    "plt.title('Liverpool Players Distribuition')\n",
    "plt.ylabel('Number of players born in the Month')\n",
    "plt.xlabel('Numerical value of Month')"
   ]
  },
  {
   "cell_type": "code",
   "execution_count": 30,
   "id": "a5e8a732",
   "metadata": {},
   "outputs": [
    {
     "data": {
      "text/html": [
       "<div>\n",
       "<style scoped>\n",
       "    .dataframe tbody tr th:only-of-type {\n",
       "        vertical-align: middle;\n",
       "    }\n",
       "\n",
       "    .dataframe tbody tr th {\n",
       "        vertical-align: top;\n",
       "    }\n",
       "\n",
       "    .dataframe thead th {\n",
       "        text-align: right;\n",
       "    }\n",
       "</style>\n",
       "<table border=\"1\" class=\"dataframe\">\n",
       "  <thead>\n",
       "    <tr style=\"text-align: right;\">\n",
       "      <th></th>\n",
       "      <th>Month</th>\n",
       "      <th>Total Players</th>\n",
       "    </tr>\n",
       "  </thead>\n",
       "  <tbody>\n",
       "    <tr>\n",
       "      <th>0</th>\n",
       "      <td>1</td>\n",
       "      <td>4</td>\n",
       "    </tr>\n",
       "    <tr>\n",
       "      <th>1</th>\n",
       "      <td>2</td>\n",
       "      <td>1</td>\n",
       "    </tr>\n",
       "    <tr>\n",
       "      <th>2</th>\n",
       "      <td>3</td>\n",
       "      <td>3</td>\n",
       "    </tr>\n",
       "    <tr>\n",
       "      <th>3</th>\n",
       "      <td>4</td>\n",
       "      <td>7</td>\n",
       "    </tr>\n",
       "    <tr>\n",
       "      <th>4</th>\n",
       "      <td>5</td>\n",
       "      <td>2</td>\n",
       "    </tr>\n",
       "    <tr>\n",
       "      <th>5</th>\n",
       "      <td>6</td>\n",
       "      <td>3</td>\n",
       "    </tr>\n",
       "    <tr>\n",
       "      <th>6</th>\n",
       "      <td>7</td>\n",
       "      <td>1</td>\n",
       "    </tr>\n",
       "    <tr>\n",
       "      <th>7</th>\n",
       "      <td>8</td>\n",
       "      <td>2</td>\n",
       "    </tr>\n",
       "    <tr>\n",
       "      <th>8</th>\n",
       "      <td>10</td>\n",
       "      <td>6</td>\n",
       "    </tr>\n",
       "    <tr>\n",
       "      <th>9</th>\n",
       "      <td>11</td>\n",
       "      <td>2</td>\n",
       "    </tr>\n",
       "    <tr>\n",
       "      <th>10</th>\n",
       "      <td>12</td>\n",
       "      <td>2</td>\n",
       "    </tr>\n",
       "  </tbody>\n",
       "</table>\n",
       "</div>"
      ],
      "text/plain": [
       "    Month  Total Players\n",
       "0       1              4\n",
       "1       2              1\n",
       "2       3              3\n",
       "3       4              7\n",
       "4       5              2\n",
       "5       6              3\n",
       "6       7              1\n",
       "7       8              2\n",
       "8      10              6\n",
       "9      11              2\n",
       "10     12              2"
      ]
     },
     "execution_count": 30,
     "metadata": {},
     "output_type": "execute_result"
    }
   ],
   "source": [
    "liverpoolMonthNumber = lp_df.groupby('MonthNumber')['MonthNumber'].count()\n",
    "liverpoolMonthdf = pd.DataFrame([[i, liverpoolMonthNumber[i]] for i in liverpoolMonthNumber.index])\n",
    "liverpoolMonthdf.rename(columns={0:'Month', 1: 'Total Players'}, inplace=True)\n",
    "liverpoolMonthdf"
   ]
  },
  {
   "cell_type": "code",
   "execution_count": 31,
   "id": "c40aeaf1",
   "metadata": {},
   "outputs": [],
   "source": [
    "X = liverpoolMonthdf['Month']\n",
    "Y = liverpoolMonthdf['Total Players']"
   ]
  },
  {
   "cell_type": "code",
   "execution_count": 32,
   "id": "47ed89c0",
   "metadata": {},
   "outputs": [
    {
     "data": {
      "text/plain": [
       "Text(1.05, 0.95, '$y=-0.051\\\\;x+3.322$\\n$R^2 = 0.009$')"
      ]
     },
     "execution_count": 32,
     "metadata": {},
     "output_type": "execute_result"
    },
    {
     "data": {
      "image/png": "[encoded data removed]",
      "text/plain": [
       "<Figure size 432x288 with 1 Axes>"
      ]
     },
     "metadata": {
      "needs_background": "light"
     },
     "output_type": "display_data"
    }
   ],
   "source": [
    "plt.title('Liverpool München Players')\n",
    "plt.ylabel('Total Players')\n",
    "plt.xlabel('Months')\n",
    "plt.plot(X,Y,\"b.\", ms=10, mec=\"k\")\n",
    "z = np.polyfit(X, Y, 1)\n",
    "y_hat = np.poly1d(z)(X)\n",
    "\n",
    "plt.plot(X, y_hat, \"r--\", lw=1)\n",
    "text = f\"$y={z[0]:0.3f}\\;x{z[1]:+0.3f}$\\n$R^2 = {r2_score(Y,y_hat):0.3f}$\"\n",
    "plt.gca().text(1.05, 0.95, text,transform=plt.gca().transAxes,\n",
    "     fontsize=14, verticalalignment='top')"
   ]
  },
  {
   "cell_type": "code",
   "execution_count": 35,
   "id": "3e93f844",
   "metadata": {},
   "outputs": [],
   "source": [
    "dfi.export(liverpoolMonthdf[['Month', 'Total Players']].corr(), 'liverpoolcorr.png')"
   ]
  },
  {
   "cell_type": "code",
   "execution_count": null,
   "id": "b07da1eb",
   "metadata": {},
   "outputs": [],
   "source": []
  }
 ],
 "metadata": {
  "kernelspec": {
   "display_name": "Python 3",
   "language": "python",
   "name": "python3"
  },
  "language_info": {
   "codemirror_mode": {
    "name": "ipython",
    "version": 3
   },
   "file_extension": ".py",
   "mimetype": "text/x-python",
   "name": "python",
   "nbconvert_exporter": "python",
   "pygments_lexer": "ipython3",
   "version": "3.8.8"
  }
 },
 "nbformat": 4,
 "nbformat_minor": 5
}
